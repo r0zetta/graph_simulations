{
 "cells": [
  {
   "cell_type": "code",
   "execution_count": null,
   "metadata": {},
   "outputs": [],
   "source": [
    "from graph import *\n",
    "from graphviz import *\n",
    "import networkx as nx\n",
    "import os, json\n",
    "\n",
    "savedir = \"saves\"\n",
    "if not os.path.exists(savedir):\n",
    "    os.makedirs(savedir)\n",
    "    \n",
    "def show_graph(g):\n",
    "    g.print_basic_stats()\n",
    "    g.print_community_stats()\n",
    "    inter = g.interactions\n",
    "    gv = GraphViz(inter,\n",
    "                  mag_factor=2.0,\n",
    "                  scaling=20,\n",
    "                  gravity=5,\n",
    "                  min_font_size=1,\n",
    "                  max_font_size=55,\n",
    "                  min_node_size=5,\n",
    "                  max_node_size=20,\n",
    "                  min_edge_size=1,\n",
    "                  max_edge_size=1,\n",
    "                  label_font=\"Arial\",\n",
    "                  background_mode='black',\n",
    "                  font_scaling=\"lin\",\n",
    "                  auto_zoom=False,\n",
    "                  expand=0.5)\n",
    "    im = im = gv.make_graphviz()\n",
    "    im.save(\"temp.png\")\n",
    "    display(im)"
   ]
  },
  {
   "cell_type": "code",
   "execution_count": null,
   "metadata": {},
   "outputs": [],
   "source": [
    "g = Graph(num_nodes=1000,\n",
    "          num_cores=1,\n",
    "          intra_core_connectivity=0.3,\n",
    "          core_connectivity=0.7,\n",
    "          add_nodes_random=0.4,\n",
    "          add_nodes_popularity=1.4,\n",
    "          popularity_cutoff=1.0,\n",
    "          connect_cores_directly=0.2,\n",
    "          connect_second_neighbours=1.5,\n",
    "          connect_random=0.4)\n",
    "g.write_gexf(os.path.join(savedir, \"graph_1.gexf\"))\n",
    "show_graph(g)"
   ]
  },
  {
   "cell_type": "code",
   "execution_count": null,
   "metadata": {},
   "outputs": [],
   "source": [
    "g = Graph(num_nodes=1000,\n",
    "          num_cores=1,\n",
    "          intra_core_connectivity=0.3,\n",
    "          core_connectivity=0.3,\n",
    "          add_nodes_random=0.0,\n",
    "          add_nodes_popularity=1.0,\n",
    "          popularity_cutoff=1.0,\n",
    "          connect_cores_directly=0.2,\n",
    "          connect_second_neighbours=1.0,\n",
    "          connect_random=0.0)\n",
    "g.write_gexf(os.path.join(savedir, \"graph_2.gexf\"))\n",
    "show_graph(g)"
   ]
  },
  {
   "cell_type": "code",
   "execution_count": null,
   "metadata": {},
   "outputs": [],
   "source": [
    "g = Graph(num_nodes=1000,\n",
    "          num_cores=2,\n",
    "          intra_core_connectivity=0.3,\n",
    "          core_connectivity=0.2,\n",
    "          add_nodes_random=0.0,\n",
    "          add_nodes_popularity=1.0,\n",
    "          popularity_cutoff=1.0,\n",
    "          connect_cores_directly=0.0,\n",
    "          connect_second_neighbours=1.0,\n",
    "          connect_random=0.0)\n",
    "g.write_gexf(os.path.join(savedir, \"graph_3.gexf\"))\n",
    "show_graph(g)"
   ]
  },
  {
   "cell_type": "code",
   "execution_count": null,
   "metadata": {},
   "outputs": [],
   "source": [
    "g = Graph(num_nodes=1000,\n",
    "          num_cores=3,\n",
    "          intra_core_connectivity=0.3,\n",
    "          core_connectivity=0.2,\n",
    "          add_nodes_random=0.0,\n",
    "          add_nodes_popularity=1.0,\n",
    "          popularity_cutoff=0.5,\n",
    "          connect_cores_directly=0.0,\n",
    "          connect_second_neighbours=1.0,\n",
    "          connect_random=0.0)\n",
    "g.write_gexf(os.path.join(savedir, \"graph_4.gexf\"))\n",
    "show_graph(g)"
   ]
  },
  {
   "cell_type": "code",
   "execution_count": null,
   "metadata": {},
   "outputs": [],
   "source": [
    "g = Graph(num_nodes=1000,\n",
    "          num_cores=6,\n",
    "          intra_core_connectivity=0.1,\n",
    "          core_connectivity=3.0,\n",
    "          add_nodes_random=0.0,\n",
    "          add_nodes_popularity=1.0,\n",
    "          popularity_cutoff=0.5,\n",
    "          connect_cores_directly=0.5,\n",
    "          connect_second_neighbours=1.0,\n",
    "          connect_random=0.0)\n",
    "g.write_gexf(os.path.join(savedir, \"graph_5.gexf\"))\n",
    "show_graph(g)"
   ]
  },
  {
   "cell_type": "code",
   "execution_count": null,
   "metadata": {},
   "outputs": [],
   "source": [
    "g = Graph(num_nodes=2000,\n",
    "          num_cores=2,\n",
    "          intra_core_connectivity=0.1,\n",
    "          core_connectivity=0.5,\n",
    "          add_nodes_random=0.1,\n",
    "          add_nodes_popularity=3.0,\n",
    "          popularity_cutoff=0.2,\n",
    "          connect_cores_directly=0.1,\n",
    "          connect_second_neighbours=0.5,\n",
    "          connect_random=0.1)\n",
    "g.write_gexf(os.path.join(savedir, \"graph_6.gexf\"))\n",
    "show_graph(g)"
   ]
  },
  {
   "cell_type": "code",
   "execution_count": null,
   "metadata": {},
   "outputs": [],
   "source": [
    "g = Graph(num_nodes=1000,\n",
    "          num_cores=1,\n",
    "          intra_core_connectivity=0.8,\n",
    "          core_connectivity=0.5,\n",
    "          add_nodes_random=0.1,\n",
    "          add_nodes_popularity=3.0,\n",
    "          popularity_cutoff=0.4,\n",
    "          connect_cores_directly=0.1,\n",
    "          connect_second_neighbours=0.3,\n",
    "          connect_random=0.0)\n",
    "g.write_gexf(os.path.join(savedir, \"graph_7.gexf\"))\n",
    "show_graph(g)"
   ]
  },
  {
   "cell_type": "code",
   "execution_count": null,
   "metadata": {
    "scrolled": false
   },
   "outputs": [],
   "source": [
    "g = Graph(num_nodes=2000,\n",
    "          num_cores=2,\n",
    "          intra_core_connectivity=0.7,\n",
    "          core_connectivity=0.2,\n",
    "          add_nodes_random=0.5,\n",
    "          add_nodes_popularity=2.0,\n",
    "          popularity_cutoff=0.4,\n",
    "          connect_cores_directly=0.05,\n",
    "          connect_second_neighbours=0.3,\n",
    "          connect_random=0.1)\n",
    "g.write_gexf(os.path.join(savedir, \"graph_8.gexf\"))\n",
    "show_graph(g)"
   ]
  },
  {
   "cell_type": "code",
   "execution_count": null,
   "metadata": {
    "scrolled": true
   },
   "outputs": [],
   "source": [
    "# Generate some random graphs and show their config and statistics\n",
    "configs = { \"num_nodes\": [500, 1000, 2000],\n",
    "            \"num_cores\": [1, 2, 3, 4, 5, 6, 7, 8, 9, 10],\n",
    "            \"intra_core_connectivity\": [0.2, 0.4, 0.6, 0.8, 1.0, 2.0],\n",
    "            \"core_connectivity\": [0.2, 0.5, 1.0, 2.0, 3.0, 5.0],\n",
    "            \"add_nodes_random\": [0.2, 0.4, 0.6, 0.8, 1.0, 2.0],\n",
    "            \"add_nodes_popularity\":[0.4, 0.8, 1.2, 1.4, 1.6, 2.0],\n",
    "            \"popularity_cutoff\":[0.2, 0.4, 0.6, 0.8, 1.0],\n",
    "            \"connect_cores_directly\":[0.2, 0.4, 0.6, 0.8, 1.0],\n",
    "            \"connect_second_neighbours\":[0.5, 1.0, 1.5, 2.0],\n",
    "            \"connect_random\":[0.5, 1.0, 1.5, 2.0],\n",
    "          }\n",
    "\n",
    "stats = []\n",
    "for e in range(10):\n",
    "    choices = {}\n",
    "    for name, vals in configs.items():\n",
    "        choices[name] = random.choice(vals)\n",
    "    g = Graph(num_nodes=choices[\"num_nodes\"],\n",
    "              num_cores=choices[\"num_cores\"],\n",
    "              intra_core_connectivity=choices[\"intra_core_connectivity\"],\n",
    "              core_connectivity=choices[\"core_connectivity\"],\n",
    "              add_nodes_random=choices[\"add_nodes_random\"],\n",
    "              add_nodes_popularity=choices[\"add_nodes_popularity\"],\n",
    "              popularity_cutoff=choices[\"popularity_cutoff\"],\n",
    "              connect_cores_directly=choices[\"connect_cores_directly\"],\n",
    "              connect_second_neighbours=choices[\"connect_second_neighbours\"],\n",
    "              connect_random=choices[\"connect_random\"])\n",
    "    entry = choices\n",
    "    entry[\"communities\"] = len(g.clusters)\n",
    "    entry[\"community_dist\"] = g.get_community_dist()\n",
    "    stats.append(entry)\n",
    "    g.write_gexf(os.path.join(savedir, \"random_\"+str(e)+\".gexf\"))\n",
    "    with open(os.path.join(savedir, \"config_\"+str(e)+\".json\"), \"w\") as f:\n",
    "        f.write(json.dumps(entry))\n",
    "    show_graph(g)"
   ]
  },
  {
   "cell_type": "code",
   "execution_count": null,
   "metadata": {},
   "outputs": [],
   "source": []
  }
 ],
 "metadata": {
  "kernelspec": {
   "display_name": "Python 3",
   "language": "python",
   "name": "python3"
  },
  "language_info": {
   "codemirror_mode": {
    "name": "ipython",
    "version": 3
   },
   "file_extension": ".py",
   "mimetype": "text/x-python",
   "name": "python",
   "nbconvert_exporter": "python",
   "pygments_lexer": "ipython3",
   "version": "3.8.3"
  }
 },
 "nbformat": 4,
 "nbformat_minor": 4
}
